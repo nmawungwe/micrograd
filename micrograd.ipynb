{
 "cells": [
  {
   "cell_type": "code",
   "execution_count": 1,
   "id": "02020959",
   "metadata": {},
   "outputs": [
    {
     "name": "stdout",
     "output_type": "stream",
     "text": [
      "Requirement already satisfied: matplotlib in /Library/Frameworks/Python.framework/Versions/3.10/lib/python3.10/site-packages (3.9.0)\n",
      "Requirement already satisfied: contourpy>=1.0.1 in /Library/Frameworks/Python.framework/Versions/3.10/lib/python3.10/site-packages (from matplotlib) (1.2.1)\n",
      "Requirement already satisfied: cycler>=0.10 in /Library/Frameworks/Python.framework/Versions/3.10/lib/python3.10/site-packages (from matplotlib) (0.12.1)\n",
      "Requirement already satisfied: fonttools>=4.22.0 in /Library/Frameworks/Python.framework/Versions/3.10/lib/python3.10/site-packages (from matplotlib) (4.53.0)\n",
      "Requirement already satisfied: kiwisolver>=1.3.1 in /Library/Frameworks/Python.framework/Versions/3.10/lib/python3.10/site-packages (from matplotlib) (1.4.5)\n",
      "Requirement already satisfied: numpy>=1.23 in /Library/Frameworks/Python.framework/Versions/3.10/lib/python3.10/site-packages (from matplotlib) (1.24.3)\n",
      "Requirement already satisfied: packaging>=20.0 in /Library/Frameworks/Python.framework/Versions/3.10/lib/python3.10/site-packages (from matplotlib) (23.2)\n",
      "Requirement already satisfied: pillow>=8 in /Library/Frameworks/Python.framework/Versions/3.10/lib/python3.10/site-packages (from matplotlib) (9.5.0)\n",
      "Requirement already satisfied: pyparsing>=2.3.1 in /Library/Frameworks/Python.framework/Versions/3.10/lib/python3.10/site-packages (from matplotlib) (3.1.2)\n",
      "Requirement already satisfied: python-dateutil>=2.7 in /Library/Frameworks/Python.framework/Versions/3.10/lib/python3.10/site-packages (from matplotlib) (2.8.2)\n",
      "Requirement already satisfied: six>=1.5 in /Library/Frameworks/Python.framework/Versions/3.10/lib/python3.10/site-packages (from python-dateutil>=2.7->matplotlib) (1.16.0)\n",
      "Note: you may need to restart the kernel to use updated packages.\n"
     ]
    }
   ],
   "source": [
    "%pip install matplotlib\n",
    "import math\n",
    "import numpy as np\n",
    "import matplotlib.pyplot as plt\n",
    "%matplotlib inline"
   ]
  },
  {
   "cell_type": "code",
   "execution_count": 2,
   "id": "4272343d",
   "metadata": {},
   "outputs": [],
   "source": [
    "def f(x):\n",
    "    return 3*x**2 - 4*x + 2"
   ]
  },
  {
   "cell_type": "code",
   "execution_count": 3,
   "id": "29367adc",
   "metadata": {},
   "outputs": [
    {
     "data": {
      "text/plain": [
       "17.0"
      ]
     },
     "execution_count": 3,
     "metadata": {},
     "output_type": "execute_result"
    }
   ],
   "source": [
    "f(3.0)"
   ]
  },
  {
   "cell_type": "code",
   "execution_count": 4,
   "id": "5f454926",
   "metadata": {},
   "outputs": [
    {
     "data": {
      "text/plain": [
       "[<matplotlib.lines.Line2D at 0x1153f4340>]"
      ]
     },
     "execution_count": 4,
     "metadata": {},
     "output_type": "execute_result"
    },
    {
     "data": {
      "image/png": "[encoded data removed]",
      "text/plain": [
       "<Figure size 640x480 with 1 Axes>"
      ]
     },
     "metadata": {},
     "output_type": "display_data"
    }
   ],
   "source": [
    "xs = np.arange(-5, 5, 0.25)\n",
    "ys = f(xs)\n",
    "plt.plot(xs, ys)"
   ]
  },
  {
   "cell_type": "code",
   "execution_count": 5,
   "id": "bff00588",
   "metadata": {},
   "outputs": [
    {
     "data": {
      "text/plain": [
       "14.00300000000243"
      ]
     },
     "execution_count": 5,
     "metadata": {},
     "output_type": "execute_result"
    }
   ],
   "source": [
    "h = 0.001\n",
    "x= 3\n",
    "(f(x+h) - f(x))/h"
   ]
  },
  {
   "cell_type": "code",
   "execution_count": 6,
   "id": "5e7ab4c6",
   "metadata": {},
   "outputs": [
    {
     "name": "stdout",
     "output_type": "stream",
     "text": [
      "d1 4.0\n",
      "d2 4.0002\n",
      "slope 2.0000000000042206\n"
     ]
    }
   ],
   "source": [
    "h = 0.0001\n",
    "\n",
    "# inputs\n",
    "a = 2.0\n",
    "b = -3.0\n",
    "c = 10.0\n",
    "\n",
    "d1 = a*b + c\n",
    "b += h\n",
    "d2 = a*b + c\n",
    "\n",
    "print('d1', d1)\n",
    "print ('d2', d2)\n",
    "print('slope', (d2-d1)/h)\n"
   ]
  },
  {
   "cell_type": "code",
   "execution_count": 61,
   "id": "21857cc9",
   "metadata": {},
   "outputs": [
    {
     "data": {
      "text/plain": [
       "Value(data=-8.0)"
      ]
     },
     "execution_count": 61,
     "metadata": {},
     "output_type": "execute_result"
    }
   ],
   "source": [
    "class Value:\n",
    "    \n",
    "    def __init__(self, data, _children=(), _op='', label=''):\n",
    "        self.data = data\n",
    "        self.grad = 0.0\n",
    "        self._prev = set(_children)\n",
    "        self._op = _op\n",
    "        self.label = label\n",
    "        \n",
    "    def __repr__(self):\n",
    "        return f\"Value(data={self.data})\"\n",
    "    \n",
    "    def __add__(self, other):\n",
    "        out = Value(self.data + other.data, (self, other), '+')\n",
    "        return out\n",
    "    \n",
    "    def __mul__(self, other):\n",
    "        out = Value(self.data * other.data, (self, other), '*')\n",
    "        return out\n",
    "    \n",
    "    def tanh(self):\n",
    "        x = self.data\n",
    "        t = (math.exp(2*x)-1)/(math.exp(2*x) + 1)\n",
    "        out = Value(t, (self, ), 'tanh')\n",
    "        return out\n",
    "        \n",
    "    \n",
    "a = Value(2.0, label='a')\n",
    "b = Value(-3.0, label='b')\n",
    "c = Value(10, label='c')\n",
    "e = a*b; e.label = 'e'\n",
    "d = e + c; d.label = 'd'\n",
    "f = Value(-2.0, label='f')\n",
    "L = d * f; L.label = 'L'\n",
    "L "
   ]
  },
  {
   "cell_type": "code",
   "execution_count": 8,
   "id": "1fb74ce3",
   "metadata": {},
   "outputs": [
    {
     "name": "stdout",
     "output_type": "stream",
     "text": [
      "Requirement already satisfied: graphviz in /Library/Frameworks/Python.framework/Versions/3.10/lib/python3.10/site-packages (0.20.3)\n",
      "Note: you may need to restart the kernel to use updated packages.\n"
     ]
    }
   ],
   "source": [
    "%pip install graphviz\n",
    "from graphviz import Digraph"
   ]
  },
  {
   "cell_type": "code",
   "execution_count": 45,
   "id": "dbdb4f26",
   "metadata": {},
   "outputs": [],
   "source": [
    "def trace(root):\n",
    "    nodes, edges = set(), set()\n",
    "    def build(v):\n",
    "        if v not in nodes:\n",
    "            nodes.add(v)\n",
    "            for child in v._prev:\n",
    "                edges.add((child, v))\n",
    "                build(child)\n",
    "    build(root)\n",
    "    return nodes, edges\n",
    "\n",
    "def draw_dot(root, format='svg', rankdir='LR'):\n",
    "    \"\"\"\n",
    "    format: png | svg | ...\n",
    "    rankdir: TB (top to bottom graph) | LR (left to right)\n",
    "    \"\"\"\n",
    "#     assert rankdir in ['LR', 'TB']\n",
    "    nodes, edges = trace(root)\n",
    "    dot = Digraph(format=format, graph_attr={'rankdir': rankdir}) #, node_attr={'rankdir': 'TB'})\n",
    "    \n",
    "    for n in nodes:\n",
    "        uid = str(id(n))\n",
    "        dot.node(name=uid, label = \"{ %s | data %.4f | grad %.4f }\" % (n.label, n.data, n.grad ), shape='record')\n",
    "        if n._op:\n",
    "            dot.node(name=str(id(n)) + n._op, label=n._op)\n",
    "            dot.edge(str(id(n)) + n._op, str(id(n)))\n",
    "    \n",
    "    for n1, n2 in edges:\n",
    "        dot.edge(str(id(n1)), str(id(n2)) + n2._op)\n",
    "    \n",
    "    return dot"
   ]
  },
  {
   "cell_type": "code",
   "execution_count": 50,
   "id": "e08331a8",
   "metadata": {},
   "outputs": [
    {
     "data": {
      "image/svg+xml": [
       "<?xml version=\"1.0\" encoding=\"UTF-8\" standalone=\"no\"?>\n",
       "<!DOCTYPE svg PUBLIC \"-//W3C//DTD SVG 1.1//EN\"\n",
       " \"http://www.w3.org/Graphics/SVG/1.1/DTD/svg11.dtd\">\n",
       "<!-- Generated by graphviz version 11.0.0 (20240428.1522)\n",
       " -->\n",
       "<!-- Pages: 1 -->\n",
       "<svg width=\"1151pt\" height=\"128pt\"\n",
       " viewBox=\"0.00 0.00 1151.00 128.00\" xmlns=\"http://www.w3.org/2000/svg\" xmlns:xlink=\"http://www.w3.org/1999/xlink\">\n",
       "<g id=\"graph0\" class=\"graph\" transform=\"scale(1 1) rotate(0) translate(4 124)\">\n",
       "<polygon fill=\"white\" stroke=\"none\" points=\"-4,4 -4,-124 1147,-124 1147,4 -4,4\"/>\n",
       "<!-- 4657424384 -->\n",
       "<g id=\"node1\" class=\"node\">\n",
       "<title>4657424384</title>\n",
       "<polygon fill=\"none\" stroke=\"black\" points=\"640.12,-82.5 640.12,-118.5 826.12,-118.5 826.12,-82.5 640.12,-82.5\"/>\n",
       "<text text-anchor=\"middle\" x=\"650.38\" y=\"-95.7\" font-family=\"Times,serif\" font-size=\"14.00\">f</text>\n",
       "<polyline fill=\"none\" stroke=\"black\" points=\"660.62,-83 660.62,-118.5\"/>\n",
       "<text text-anchor=\"middle\" x=\"702.75\" y=\"-95.7\" font-family=\"Times,serif\" font-size=\"14.00\">data &#45;2.0000</text>\n",
       "<polyline fill=\"none\" stroke=\"black\" points=\"744.88,-83 744.88,-118.5\"/>\n",
       "<text text-anchor=\"middle\" x=\"785.5\" y=\"-95.7\" font-family=\"Times,serif\" font-size=\"14.00\">grad 4.0000</text>\n",
       "</g>\n",
       "<!-- 4657427408* -->\n",
       "<g id=\"node10\" class=\"node\">\n",
       "<title>4657427408*</title>\n",
       "<ellipse fill=\"none\" stroke=\"black\" cx=\"890.25\" cy=\"-72.5\" rx=\"27\" ry=\"18\"/>\n",
       "<text text-anchor=\"middle\" x=\"890.25\" y=\"-67.45\" font-family=\"Times,serif\" font-size=\"14.00\">*</text>\n",
       "</g>\n",
       "<!-- 4657424384&#45;&gt;4657427408* -->\n",
       "<g id=\"edge8\" class=\"edge\">\n",
       "<title>4657424384&#45;&gt;4657427408*</title>\n",
       "<path fill=\"none\" stroke=\"black\" d=\"M826.6,-83.81C835.76,-82.16 844.62,-80.56 852.67,-79.1\"/>\n",
       "<polygon fill=\"black\" stroke=\"black\" points=\"853.09,-82.58 862.31,-77.36 851.84,-75.7 853.09,-82.58\"/>\n",
       "</g>\n",
       "<!-- 4657421360 -->\n",
       "<g id=\"node2\" class=\"node\">\n",
       "<title>4657421360</title>\n",
       "<polygon fill=\"none\" stroke=\"black\" points=\"319.88,-55.5 319.88,-91.5 511.88,-91.5 511.88,-55.5 319.88,-55.5\"/>\n",
       "<text text-anchor=\"middle\" x=\"330.88\" y=\"-68.7\" font-family=\"Times,serif\" font-size=\"14.00\">e</text>\n",
       "<polyline fill=\"none\" stroke=\"black\" points=\"341.88,-56 341.88,-91.5\"/>\n",
       "<text text-anchor=\"middle\" x=\"384\" y=\"-68.7\" font-family=\"Times,serif\" font-size=\"14.00\">data &#45;6.0000</text>\n",
       "<polyline fill=\"none\" stroke=\"black\" points=\"426.12,-56 426.12,-91.5\"/>\n",
       "<text text-anchor=\"middle\" x=\"469\" y=\"-68.7\" font-family=\"Times,serif\" font-size=\"14.00\">grad &#45;2.0000</text>\n",
       "</g>\n",
       "<!-- 4657424192+ -->\n",
       "<g id=\"node6\" class=\"node\">\n",
       "<title>4657424192+</title>\n",
       "<ellipse fill=\"none\" stroke=\"black\" cx=\"576\" cy=\"-45.5\" rx=\"27\" ry=\"18\"/>\n",
       "<text text-anchor=\"middle\" x=\"576\" y=\"-40.45\" font-family=\"Times,serif\" font-size=\"14.00\">+</text>\n",
       "</g>\n",
       "<!-- 4657421360&#45;&gt;4657424192+ -->\n",
       "<g id=\"edge4\" class=\"edge\">\n",
       "<title>4657421360&#45;&gt;4657424192+</title>\n",
       "<path fill=\"none\" stroke=\"black\" d=\"M512.05,-56.65C521.28,-55.01 530.2,-53.43 538.29,-52\"/>\n",
       "<polygon fill=\"black\" stroke=\"black\" points=\"538.74,-55.47 547.98,-50.28 537.52,-48.58 538.74,-55.47\"/>\n",
       "</g>\n",
       "<!-- 4657421360* -->\n",
       "<g id=\"node3\" class=\"node\">\n",
       "<title>4657421360*</title>\n",
       "<ellipse fill=\"none\" stroke=\"black\" cx=\"255.75\" cy=\"-73.5\" rx=\"27\" ry=\"18\"/>\n",
       "<text text-anchor=\"middle\" x=\"255.75\" y=\"-68.45\" font-family=\"Times,serif\" font-size=\"14.00\">*</text>\n",
       "</g>\n",
       "<!-- 4657421360*&#45;&gt;4657421360 -->\n",
       "<g id=\"edge1\" class=\"edge\">\n",
       "<title>4657421360*&#45;&gt;4657421360</title>\n",
       "<path fill=\"none\" stroke=\"black\" d=\"M283.22,-73.5C290.59,-73.5 299.09,-73.5 308.13,-73.5\"/>\n",
       "<polygon fill=\"black\" stroke=\"black\" points=\"307.89,-77 317.89,-73.5 307.89,-70 307.89,-77\"/>\n",
       "</g>\n",
       "<!-- 4657422128 -->\n",
       "<g id=\"node4\" class=\"node\">\n",
       "<title>4657422128</title>\n",
       "<polygon fill=\"none\" stroke=\"black\" points=\"4.88,-83.5 4.88,-119.5 187.88,-119.5 187.88,-83.5 4.88,-83.5\"/>\n",
       "<text text-anchor=\"middle\" x=\"15.88\" y=\"-96.7\" font-family=\"Times,serif\" font-size=\"14.00\">a</text>\n",
       "<polyline fill=\"none\" stroke=\"black\" points=\"26.88,-84 26.88,-119.5\"/>\n",
       "<text text-anchor=\"middle\" x=\"66.75\" y=\"-96.7\" font-family=\"Times,serif\" font-size=\"14.00\">data 2.0000</text>\n",
       "<polyline fill=\"none\" stroke=\"black\" points=\"106.62,-84 106.62,-119.5\"/>\n",
       "<text text-anchor=\"middle\" x=\"147.25\" y=\"-96.7\" font-family=\"Times,serif\" font-size=\"14.00\">grad 6.0000</text>\n",
       "</g>\n",
       "<!-- 4657422128&#45;&gt;4657421360* -->\n",
       "<g id=\"edge5\" class=\"edge\">\n",
       "<title>4657422128&#45;&gt;4657421360*</title>\n",
       "<path fill=\"none\" stroke=\"black\" d=\"M188.01,-85.37C198.67,-83.48 209.04,-81.63 218.3,-79.99\"/>\n",
       "<polygon fill=\"black\" stroke=\"black\" points=\"218.65,-83.48 227.88,-78.28 217.42,-76.59 218.65,-83.48\"/>\n",
       "</g>\n",
       "<!-- 4657424192 -->\n",
       "<g id=\"node5\" class=\"node\">\n",
       "<title>4657424192</title>\n",
       "<polygon fill=\"none\" stroke=\"black\" points=\"639,-27.5 639,-63.5 827.25,-63.5 827.25,-27.5 639,-27.5\"/>\n",
       "<text text-anchor=\"middle\" x=\"650.38\" y=\"-40.7\" font-family=\"Times,serif\" font-size=\"14.00\">d</text>\n",
       "<polyline fill=\"none\" stroke=\"black\" points=\"661.75,-28 661.75,-63.5\"/>\n",
       "<text text-anchor=\"middle\" x=\"701.62\" y=\"-40.7\" font-family=\"Times,serif\" font-size=\"14.00\">data 4.0000</text>\n",
       "<polyline fill=\"none\" stroke=\"black\" points=\"741.5,-28 741.5,-63.5\"/>\n",
       "<text text-anchor=\"middle\" x=\"784.38\" y=\"-40.7\" font-family=\"Times,serif\" font-size=\"14.00\">grad &#45;2.0000</text>\n",
       "</g>\n",
       "<!-- 4657424192&#45;&gt;4657427408* -->\n",
       "<g id=\"edge7\" class=\"edge\">\n",
       "<title>4657424192&#45;&gt;4657427408*</title>\n",
       "<path fill=\"none\" stroke=\"black\" d=\"M827.49,-61.75C836.27,-63.28 844.77,-64.76 852.51,-66.1\"/>\n",
       "<polygon fill=\"black\" stroke=\"black\" points=\"851.66,-69.51 862.11,-67.78 852.86,-62.61 851.66,-69.51\"/>\n",
       "</g>\n",
       "<!-- 4657424192+&#45;&gt;4657424192 -->\n",
       "<g id=\"edge2\" class=\"edge\">\n",
       "<title>4657424192+&#45;&gt;4657424192</title>\n",
       "<path fill=\"none\" stroke=\"black\" d=\"M603.31,-45.5C610.49,-45.5 618.72,-45.5 627.47,-45.5\"/>\n",
       "<polygon fill=\"black\" stroke=\"black\" points=\"627.29,-49 637.29,-45.5 627.29,-42 627.29,-49\"/>\n",
       "</g>\n",
       "<!-- 4657427264 -->\n",
       "<g id=\"node7\" class=\"node\">\n",
       "<title>4657427264</title>\n",
       "<polygon fill=\"none\" stroke=\"black\" points=\"0,-28.5 0,-64.5 192.75,-64.5 192.75,-28.5 0,-28.5\"/>\n",
       "<text text-anchor=\"middle\" x=\"11.38\" y=\"-41.7\" font-family=\"Times,serif\" font-size=\"14.00\">b</text>\n",
       "<polyline fill=\"none\" stroke=\"black\" points=\"22.75,-29 22.75,-64.5\"/>\n",
       "<text text-anchor=\"middle\" x=\"64.88\" y=\"-41.7\" font-family=\"Times,serif\" font-size=\"14.00\">data &#45;3.0000</text>\n",
       "<polyline fill=\"none\" stroke=\"black\" points=\"107,-29 107,-64.5\"/>\n",
       "<text text-anchor=\"middle\" x=\"149.88\" y=\"-41.7\" font-family=\"Times,serif\" font-size=\"14.00\">grad &#45;4.0000</text>\n",
       "</g>\n",
       "<!-- 4657427264&#45;&gt;4657421360* -->\n",
       "<g id=\"edge6\" class=\"edge\">\n",
       "<title>4657427264&#45;&gt;4657421360*</title>\n",
       "<path fill=\"none\" stroke=\"black\" d=\"M193,-62.91C201.81,-64.42 210.32,-65.88 218.06,-67.2\"/>\n",
       "<polygon fill=\"black\" stroke=\"black\" points=\"217.21,-70.61 227.66,-68.85 218.4,-63.71 217.21,-70.61\"/>\n",
       "</g>\n",
       "<!-- 4657429856 -->\n",
       "<g id=\"node8\" class=\"node\">\n",
       "<title>4657429856</title>\n",
       "<polygon fill=\"none\" stroke=\"black\" points=\"318.75,-0.5 318.75,-36.5 513,-36.5 513,-0.5 318.75,-0.5\"/>\n",
       "<text text-anchor=\"middle\" x=\"329.75\" y=\"-13.7\" font-family=\"Times,serif\" font-size=\"14.00\">c</text>\n",
       "<polyline fill=\"none\" stroke=\"black\" points=\"340.75,-1 340.75,-36.5\"/>\n",
       "<text text-anchor=\"middle\" x=\"384\" y=\"-13.7\" font-family=\"Times,serif\" font-size=\"14.00\">data 10.0000</text>\n",
       "<polyline fill=\"none\" stroke=\"black\" points=\"427.25,-1 427.25,-36.5\"/>\n",
       "<text text-anchor=\"middle\" x=\"470.12\" y=\"-13.7\" font-family=\"Times,serif\" font-size=\"14.00\">grad &#45;2.0000</text>\n",
       "</g>\n",
       "<!-- 4657429856&#45;&gt;4657424192+ -->\n",
       "<g id=\"edge9\" class=\"edge\">\n",
       "<title>4657429856&#45;&gt;4657424192+</title>\n",
       "<path fill=\"none\" stroke=\"black\" d=\"M513.41,-34.98C522.1,-36.47 530.5,-37.9 538.15,-39.21\"/>\n",
       "<polygon fill=\"black\" stroke=\"black\" points=\"537.55,-42.66 548,-40.89 538.73,-35.76 537.55,-42.66\"/>\n",
       "</g>\n",
       "<!-- 4657427408 -->\n",
       "<g id=\"node9\" class=\"node\">\n",
       "<title>4657427408</title>\n",
       "<polygon fill=\"none\" stroke=\"black\" points=\"953.25,-54.5 953.25,-90.5 1143,-90.5 1143,-54.5 953.25,-54.5\"/>\n",
       "<text text-anchor=\"middle\" x=\"965.38\" y=\"-67.7\" font-family=\"Times,serif\" font-size=\"14.00\">L</text>\n",
       "<polyline fill=\"none\" stroke=\"black\" points=\"977.5,-55 977.5,-90.5\"/>\n",
       "<text text-anchor=\"middle\" x=\"1019.62\" y=\"-67.7\" font-family=\"Times,serif\" font-size=\"14.00\">data &#45;8.0000</text>\n",
       "<polyline fill=\"none\" stroke=\"black\" points=\"1061.75,-55 1061.75,-90.5\"/>\n",
       "<text text-anchor=\"middle\" x=\"1102.38\" y=\"-67.7\" font-family=\"Times,serif\" font-size=\"14.00\">grad 1.0000</text>\n",
       "</g>\n",
       "<!-- 4657427408*&#45;&gt;4657427408 -->\n",
       "<g id=\"edge3\" class=\"edge\">\n",
       "<title>4657427408*&#45;&gt;4657427408</title>\n",
       "<path fill=\"none\" stroke=\"black\" d=\"M917.69,-72.5C924.84,-72.5 933.03,-72.5 941.74,-72.5\"/>\n",
       "<polygon fill=\"black\" stroke=\"black\" points=\"941.51,-76 951.51,-72.5 941.51,-69 941.51,-76\"/>\n",
       "</g>\n",
       "</g>\n",
       "</svg>\n"
      ],
      "text/plain": [
       "<graphviz.graphs.Digraph at 0x115b7d630>"
      ]
     },
     "execution_count": 50,
     "metadata": {},
     "output_type": "execute_result"
    }
   ],
   "source": [
    "draw_dot(L)"
   ]
  },
  {
   "cell_type": "code",
   "execution_count": null,
   "id": "394facb9",
   "metadata": {},
   "outputs": [],
   "source": []
  },
  {
   "cell_type": "code",
   "execution_count": null,
   "id": "99e8e14a",
   "metadata": {},
   "outputs": [],
   "source": [
    "# L = d * f \n",
    "# dL/dd = ?\n",
    "\n",
    "# (f(x+h) -f(x))/h\n",
    "# ((d+h)*f - d*f)/h\n",
    "# (d*f + h*f - df)/h\n",
    "# (h*f)/h\n",
    "# f\n",
    "\n",
    "\n"
   ]
  },
  {
   "cell_type": "code",
   "execution_count": 49,
   "id": "c0bfcc45",
   "metadata": {},
   "outputs": [],
   "source": [
    "L.grad = 1.0\n",
    "d.grad = -2.0\n",
    "f.grad = 4.0\n",
    "c.grad = -2.0\n",
    "e.grad = -2.0\n",
    "a.grad = 6.0\n",
    "b.grad = -4.0"
   ]
  },
  {
   "cell_type": "code",
   "execution_count": 54,
   "id": "8292ccc7",
   "metadata": {},
   "outputs": [
    {
     "name": "stdout",
     "output_type": "stream",
     "text": [
      "-6.586368000000001\n"
     ]
    }
   ],
   "source": [
    "a.data += 0.01 * a.grad\n",
    "b.data += 0.01 * b.grad\n",
    "c.data += 0.01 * c.grad\n",
    "f.data += 0.01 * f.grad \n",
    "\n",
    "e = a * b\n",
    "d = e + c\n",
    "L = f * d\n",
    "\n",
    "print(L.data)\n"
   ]
  },
  {
   "cell_type": "code",
   "execution_count": null,
   "id": "af1efcfb",
   "metadata": {},
   "outputs": [],
   "source": [
    "# dd / dc ? 1.0\n",
    "# dd / de ? 1.0\n",
    "# d = c + e\n",
    "\n",
    "# # chain rule\n",
    "# dL / dc = (dL/dd) * (dd/dc)\n",
    "# dL/da = (dL/de) * (de/da)\n",
    "# dL/da = -2.0 * b ? 6.0\n",
    "# dL/db = -2.0 * a ? -4.0"
   ]
  },
  {
   "cell_type": "code",
   "execution_count": 52,
   "id": "c2b2e63a",
   "metadata": {},
   "outputs": [
    {
     "name": "stdout",
     "output_type": "stream",
     "text": [
      "-3.9999999999995595\n"
     ]
    }
   ],
   "source": [
    "# derivative function \n",
    "def lol():\n",
    "    \n",
    "    h = 0.001\n",
    "    \n",
    "    a = Value(2.0, label='a')\n",
    "    b = Value(-3.0, label='b')\n",
    "    c = Value(10, label='c')\n",
    "    e = a*b; e.label = 'e'\n",
    "    d = e + c; d.label = 'd'\n",
    "    f = Value(-2.0, label='f')\n",
    "    L = d * f; L.label = 'L'\n",
    "    L1 = L.data \n",
    "    \n",
    "    a = Value(2.0, label='a')\n",
    "    b = Value(-3.0, label='b')\n",
    "    c = Value(10 , label='c')\n",
    "    e = a*b; e.label = 'e'\n",
    "    d = e + c; d.label = 'd'\n",
    "#     d.data += h\n",
    "    f = Value(-2.0, label='f')\n",
    "    L = d * f; L.label = 'L'\n",
    "    L2 = L.data\n",
    "    \n",
    "    print((L2 - L1)/h)\n",
    "\n",
    "lol()"
   ]
  },
  {
   "cell_type": "code",
   "execution_count": 56,
   "id": "dc64f42b",
   "metadata": {},
   "outputs": [],
   "source": [
    "# https://cs231n.github.io/assets/nn1/neuron_model.jpeg"
   ]
  },
  {
   "cell_type": "code",
   "execution_count": 58,
   "id": "16253a21",
   "metadata": {},
   "outputs": [
    {
     "data": {
      "image/png": "[encoded data removed]",
      "text/plain": [
       "<Figure size 640x480 with 1 Axes>"
      ]
     },
     "metadata": {},
     "output_type": "display_data"
    }
   ],
   "source": [
    "plt.plot(np.arange(-5,5,0.2), np.tanh(np.arange(-5,5,0.2))); plt.grid();"
   ]
  },
  {
   "cell_type": "code",
   "execution_count": 75,
   "id": "e0a91d9a",
   "metadata": {},
   "outputs": [],
   "source": [
    "# inputs x1, x2 \n",
    "x1 = Value(2.0, label='x1')\n",
    "x2 = Value(0.0, label='x2')\n",
    "# weights w1, w2\n",
    "w1 = Value(-3.0, label='w1')\n",
    "w2 = Value(1.0, label='w2')\n",
    "# bias of neuron\n",
    "b = Value(6.8813735870195432, label='b')\n",
    "# x1w1 + x2w2 + b\n",
    "x1w1 = x1*w1; x1w1.label = 'x1*w1'\n",
    "x2w2 = x2*w2; x2w2.label = 'x2*w2'\n",
    "x1w1x2w2 = x1w1 + x2w2; x1w1x2w2.label = 'x1*w1 + x2*w2'\n",
    "n = x1w1x2w2 + b; n.label = 'n'\n",
    "o = n.tanh(); o.label = 'o'"
   ]
  },
  {
   "cell_type": "code",
   "execution_count": 81,
   "id": "392a16c6",
   "metadata": {},
   "outputs": [
    {
     "data": {
      "image/svg+xml": [
       "<?xml version=\"1.0\" encoding=\"UTF-8\" standalone=\"no\"?>\n",
       "<!DOCTYPE svg PUBLIC \"-//W3C//DTD SVG 1.1//EN\"\n",
       " \"http://www.w3.org/Graphics/SVG/1.1/DTD/svg11.dtd\">\n",
       "<!-- Generated by graphviz version 11.0.0 (20240428.1522)\n",
       " -->\n",
       "<!-- Pages: 1 -->\n",
       "<svg width=\"1567pt\" height=\"210pt\"\n",
       " viewBox=\"0.00 0.00 1566.50 210.00\" xmlns=\"http://www.w3.org/2000/svg\" xmlns:xlink=\"http://www.w3.org/1999/xlink\">\n",
       "<g id=\"graph0\" class=\"graph\" transform=\"scale(1 1) rotate(0) translate(4 206)\">\n",
       "<polygon fill=\"white\" stroke=\"none\" points=\"-4,4 -4,-206 1562.5,-206 1562.5,4 -4,4\"/>\n",
       "<!-- 4663889488 -->\n",
       "<g id=\"node1\" class=\"node\">\n",
       "<title>4663889488</title>\n",
       "<polygon fill=\"none\" stroke=\"black\" points=\"324,-55.5 324,-91.5 542.25,-91.5 542.25,-55.5 324,-55.5\"/>\n",
       "<text text-anchor=\"middle\" x=\"350.38\" y=\"-68.7\" font-family=\"Times,serif\" font-size=\"14.00\">x1*w1</text>\n",
       "<polyline fill=\"none\" stroke=\"black\" points=\"376.75,-56 376.75,-91.5\"/>\n",
       "<text text-anchor=\"middle\" x=\"418.88\" y=\"-68.7\" font-family=\"Times,serif\" font-size=\"14.00\">data &#45;6.0000</text>\n",
       "<polyline fill=\"none\" stroke=\"black\" points=\"461,-56 461,-91.5\"/>\n",
       "<text text-anchor=\"middle\" x=\"501.62\" y=\"-68.7\" font-family=\"Times,serif\" font-size=\"14.00\">grad 0.5000</text>\n",
       "</g>\n",
       "<!-- 4663902064+ -->\n",
       "<g id=\"node11\" class=\"node\">\n",
       "<title>4663902064+</title>\n",
       "<ellipse fill=\"none\" stroke=\"black\" cx=\"605.25\" cy=\"-100.5\" rx=\"27\" ry=\"18\"/>\n",
       "<text text-anchor=\"middle\" x=\"605.25\" y=\"-95.45\" font-family=\"Times,serif\" font-size=\"14.00\">+</text>\n",
       "</g>\n",
       "<!-- 4663889488&#45;&gt;4663902064+ -->\n",
       "<g id=\"edge14\" class=\"edge\">\n",
       "<title>4663889488&#45;&gt;4663902064+</title>\n",
       "<path fill=\"none\" stroke=\"black\" d=\"M542.35,-90.68C551.12,-92.07 559.54,-93.4 567.19,-94.62\"/>\n",
       "<polygon fill=\"black\" stroke=\"black\" points=\"566.59,-98.07 577.02,-96.18 567.69,-91.15 566.59,-98.07\"/>\n",
       "</g>\n",
       "<!-- 4663889488* -->\n",
       "<g id=\"node2\" class=\"node\">\n",
       "<title>4663889488*</title>\n",
       "<ellipse fill=\"none\" stroke=\"black\" cx=\"261\" cy=\"-73.5\" rx=\"27\" ry=\"18\"/>\n",
       "<text text-anchor=\"middle\" x=\"261\" y=\"-68.45\" font-family=\"Times,serif\" font-size=\"14.00\">*</text>\n",
       "</g>\n",
       "<!-- 4663889488*&#45;&gt;4663889488 -->\n",
       "<g id=\"edge1\" class=\"edge\">\n",
       "<title>4663889488*&#45;&gt;4663889488</title>\n",
       "<path fill=\"none\" stroke=\"black\" d=\"M288.21,-73.5C295.29,-73.5 303.43,-73.5 312.17,-73.5\"/>\n",
       "<polygon fill=\"black\" stroke=\"black\" points=\"312.01,-77 322.01,-73.5 312.01,-70 312.01,-77\"/>\n",
       "</g>\n",
       "<!-- 4663901296 -->\n",
       "<g id=\"node3\" class=\"node\">\n",
       "<title>4663901296</title>\n",
       "<polygon fill=\"none\" stroke=\"black\" points=\"326.25,-110.5 326.25,-146.5 540,-146.5 540,-110.5 326.25,-110.5\"/>\n",
       "<text text-anchor=\"middle\" x=\"352.62\" y=\"-123.7\" font-family=\"Times,serif\" font-size=\"14.00\">x2*w2</text>\n",
       "<polyline fill=\"none\" stroke=\"black\" points=\"379,-111 379,-146.5\"/>\n",
       "<text text-anchor=\"middle\" x=\"418.88\" y=\"-123.7\" font-family=\"Times,serif\" font-size=\"14.00\">data 0.0000</text>\n",
       "<polyline fill=\"none\" stroke=\"black\" points=\"458.75,-111 458.75,-146.5\"/>\n",
       "<text text-anchor=\"middle\" x=\"499.38\" y=\"-123.7\" font-family=\"Times,serif\" font-size=\"14.00\">grad 0.5000</text>\n",
       "</g>\n",
       "<!-- 4663901296&#45;&gt;4663902064+ -->\n",
       "<g id=\"edge7\" class=\"edge\">\n",
       "<title>4663901296&#45;&gt;4663902064+</title>\n",
       "<path fill=\"none\" stroke=\"black\" d=\"M540.42,-111.01C549.89,-109.45 559,-107.95 567.21,-106.6\"/>\n",
       "<polygon fill=\"black\" stroke=\"black\" points=\"567.75,-110.05 577.05,-104.98 566.62,-103.15 567.75,-110.05\"/>\n",
       "</g>\n",
       "<!-- 4663901296* -->\n",
       "<g id=\"node4\" class=\"node\">\n",
       "<title>4663901296*</title>\n",
       "<ellipse fill=\"none\" stroke=\"black\" cx=\"261\" cy=\"-128.5\" rx=\"27\" ry=\"18\"/>\n",
       "<text text-anchor=\"middle\" x=\"261\" y=\"-123.45\" font-family=\"Times,serif\" font-size=\"14.00\">*</text>\n",
       "</g>\n",
       "<!-- 4663901296*&#45;&gt;4663901296 -->\n",
       "<g id=\"edge2\" class=\"edge\">\n",
       "<title>4663901296*&#45;&gt;4663901296</title>\n",
       "<path fill=\"none\" stroke=\"black\" d=\"M288.21,-128.5C296,-128.5 305.08,-128.5 314.82,-128.5\"/>\n",
       "<polygon fill=\"black\" stroke=\"black\" points=\"314.55,-132 324.55,-128.5 314.55,-125 314.55,-132\"/>\n",
       "</g>\n",
       "<!-- 4663896304 -->\n",
       "<g id=\"node5\" class=\"node\">\n",
       "<title>4663896304</title>\n",
       "<polygon fill=\"none\" stroke=\"black\" points=\"0,-55.5 0,-91.5 198,-91.5 198,-55.5 0,-55.5\"/>\n",
       "<text text-anchor=\"middle\" x=\"16.25\" y=\"-68.7\" font-family=\"Times,serif\" font-size=\"14.00\">w1</text>\n",
       "<polyline fill=\"none\" stroke=\"black\" points=\"32.5,-56 32.5,-91.5\"/>\n",
       "<text text-anchor=\"middle\" x=\"74.62\" y=\"-68.7\" font-family=\"Times,serif\" font-size=\"14.00\">data &#45;3.0000</text>\n",
       "<polyline fill=\"none\" stroke=\"black\" points=\"116.75,-56 116.75,-91.5\"/>\n",
       "<text text-anchor=\"middle\" x=\"157.38\" y=\"-68.7\" font-family=\"Times,serif\" font-size=\"14.00\">grad 1.0000</text>\n",
       "</g>\n",
       "<!-- 4663896304&#45;&gt;4663889488* -->\n",
       "<g id=\"edge12\" class=\"edge\">\n",
       "<title>4663896304&#45;&gt;4663889488*</title>\n",
       "<path fill=\"none\" stroke=\"black\" d=\"M198.14,-73.5C206.61,-73.5 214.8,-73.5 222.29,-73.5\"/>\n",
       "<polygon fill=\"black\" stroke=\"black\" points=\"222.29,-77 232.29,-73.5 222.29,-70 222.29,-77\"/>\n",
       "</g>\n",
       "<!-- 4663901440 -->\n",
       "<g id=\"node6\" class=\"node\">\n",
       "<title>4663901440</title>\n",
       "<polygon fill=\"none\" stroke=\"black\" points=\"1065,-109.5 1065,-145.5 1248.75,-145.5 1248.75,-109.5 1065,-109.5\"/>\n",
       "<text text-anchor=\"middle\" x=\"1076.38\" y=\"-122.7\" font-family=\"Times,serif\" font-size=\"14.00\">n</text>\n",
       "<polyline fill=\"none\" stroke=\"black\" points=\"1087.75,-110 1087.75,-145.5\"/>\n",
       "<text text-anchor=\"middle\" x=\"1127.62\" y=\"-122.7\" font-family=\"Times,serif\" font-size=\"14.00\">data 0.8814</text>\n",
       "<polyline fill=\"none\" stroke=\"black\" points=\"1167.5,-110 1167.5,-145.5\"/>\n",
       "<text text-anchor=\"middle\" x=\"1208.12\" y=\"-122.7\" font-family=\"Times,serif\" font-size=\"14.00\">grad 0.5000</text>\n",
       "</g>\n",
       "<!-- 4663891312tanh -->\n",
       "<g id=\"node15\" class=\"node\">\n",
       "<title>4663891312tanh</title>\n",
       "<ellipse fill=\"none\" stroke=\"black\" cx=\"1311.75\" cy=\"-127.5\" rx=\"27\" ry=\"18\"/>\n",
       "<text text-anchor=\"middle\" x=\"1311.75\" y=\"-122.45\" font-family=\"Times,serif\" font-size=\"14.00\">tanh</text>\n",
       "</g>\n",
       "<!-- 4663901440&#45;&gt;4663891312tanh -->\n",
       "<g id=\"edge6\" class=\"edge\">\n",
       "<title>4663901440&#45;&gt;4663891312tanh</title>\n",
       "<path fill=\"none\" stroke=\"black\" d=\"M1249.01,-127.5C1257.39,-127.5 1265.52,-127.5 1272.98,-127.5\"/>\n",
       "<polygon fill=\"black\" stroke=\"black\" points=\"1272.95,-131 1282.95,-127.5 1272.95,-124 1272.95,-131\"/>\n",
       "</g>\n",
       "<!-- 4663901440+ -->\n",
       "<g id=\"node7\" class=\"node\">\n",
       "<title>4663901440+</title>\n",
       "<ellipse fill=\"none\" stroke=\"black\" cx=\"1002\" cy=\"-127.5\" rx=\"27\" ry=\"18\"/>\n",
       "<text text-anchor=\"middle\" x=\"1002\" y=\"-122.45\" font-family=\"Times,serif\" font-size=\"14.00\">+</text>\n",
       "</g>\n",
       "<!-- 4663901440+&#45;&gt;4663901440 -->\n",
       "<g id=\"edge3\" class=\"edge\">\n",
       "<title>4663901440+&#45;&gt;4663901440</title>\n",
       "<path fill=\"none\" stroke=\"black\" d=\"M1029.28,-127.5C1036.42,-127.5 1044.61,-127.5 1053.32,-127.5\"/>\n",
       "<polygon fill=\"black\" stroke=\"black\" points=\"1053.06,-131 1063.06,-127.5 1053.06,-124 1053.06,-131\"/>\n",
       "</g>\n",
       "<!-- 4663893760 -->\n",
       "<g id=\"node8\" class=\"node\">\n",
       "<title>4663893760</title>\n",
       "<polygon fill=\"none\" stroke=\"black\" points=\"711.75,-137.5 711.75,-173.5 895.5,-173.5 895.5,-137.5 711.75,-137.5\"/>\n",
       "<text text-anchor=\"middle\" x=\"723.12\" y=\"-150.7\" font-family=\"Times,serif\" font-size=\"14.00\">b</text>\n",
       "<polyline fill=\"none\" stroke=\"black\" points=\"734.5,-138 734.5,-173.5\"/>\n",
       "<text text-anchor=\"middle\" x=\"774.38\" y=\"-150.7\" font-family=\"Times,serif\" font-size=\"14.00\">data 6.8814</text>\n",
       "<polyline fill=\"none\" stroke=\"black\" points=\"814.25,-138 814.25,-173.5\"/>\n",
       "<text text-anchor=\"middle\" x=\"854.88\" y=\"-150.7\" font-family=\"Times,serif\" font-size=\"14.00\">grad 0.5000</text>\n",
       "</g>\n",
       "<!-- 4663893760&#45;&gt;4663901440+ -->\n",
       "<g id=\"edge10\" class=\"edge\">\n",
       "<title>4663893760&#45;&gt;4663901440+</title>\n",
       "<path fill=\"none\" stroke=\"black\" d=\"M895.91,-142.48C919.97,-139.05 944.58,-135.55 963.93,-132.79\"/>\n",
       "<polygon fill=\"black\" stroke=\"black\" points=\"964.34,-136.26 973.75,-131.39 963.35,-129.33 964.34,-136.26\"/>\n",
       "</g>\n",
       "<!-- 4663893856 -->\n",
       "<g id=\"node9\" class=\"node\">\n",
       "<title>4663893856</title>\n",
       "<polygon fill=\"none\" stroke=\"black\" points=\"2.25,-165.5 2.25,-201.5 195.75,-201.5 195.75,-165.5 2.25,-165.5\"/>\n",
       "<text text-anchor=\"middle\" x=\"18.5\" y=\"-178.7\" font-family=\"Times,serif\" font-size=\"14.00\">w2</text>\n",
       "<polyline fill=\"none\" stroke=\"black\" points=\"34.75,-166 34.75,-201.5\"/>\n",
       "<text text-anchor=\"middle\" x=\"74.62\" y=\"-178.7\" font-family=\"Times,serif\" font-size=\"14.00\">data 1.0000</text>\n",
       "<polyline fill=\"none\" stroke=\"black\" points=\"114.5,-166 114.5,-201.5\"/>\n",
       "<text text-anchor=\"middle\" x=\"155.12\" y=\"-178.7\" font-family=\"Times,serif\" font-size=\"14.00\">grad 0.0000</text>\n",
       "</g>\n",
       "<!-- 4663893856&#45;&gt;4663901296* -->\n",
       "<g id=\"edge9\" class=\"edge\">\n",
       "<title>4663893856&#45;&gt;4663901296*</title>\n",
       "<path fill=\"none\" stroke=\"black\" d=\"M172.12,-165.01C180.9,-162.35 189.7,-159.5 198,-156.5 208.09,-152.86 218.82,-148.27 228.47,-143.88\"/>\n",
       "<polygon fill=\"black\" stroke=\"black\" points=\"229.86,-147.09 237.45,-139.69 226.9,-140.75 229.86,-147.09\"/>\n",
       "</g>\n",
       "<!-- 4663902064 -->\n",
       "<g id=\"node10\" class=\"node\">\n",
       "<title>4663902064</title>\n",
       "<polygon fill=\"none\" stroke=\"black\" points=\"668.25,-82.5 668.25,-118.5 939,-118.5 939,-82.5 668.25,-82.5\"/>\n",
       "<text text-anchor=\"middle\" x=\"720.88\" y=\"-95.7\" font-family=\"Times,serif\" font-size=\"14.00\">x1*w1 + x2*w2</text>\n",
       "<polyline fill=\"none\" stroke=\"black\" points=\"773.5,-83 773.5,-118.5\"/>\n",
       "<text text-anchor=\"middle\" x=\"815.62\" y=\"-95.7\" font-family=\"Times,serif\" font-size=\"14.00\">data &#45;6.0000</text>\n",
       "<polyline fill=\"none\" stroke=\"black\" points=\"857.75,-83 857.75,-118.5\"/>\n",
       "<text text-anchor=\"middle\" x=\"898.38\" y=\"-95.7\" font-family=\"Times,serif\" font-size=\"14.00\">grad 0.5000</text>\n",
       "</g>\n",
       "<!-- 4663902064&#45;&gt;4663901440+ -->\n",
       "<g id=\"edge11\" class=\"edge\">\n",
       "<title>4663902064&#45;&gt;4663901440+</title>\n",
       "<path fill=\"none\" stroke=\"black\" d=\"M939.14,-118.99C947.95,-120.21 956.31,-121.36 963.87,-122.4\"/>\n",
       "<polygon fill=\"black\" stroke=\"black\" points=\"963.16,-125.83 973.55,-123.73 964.12,-118.9 963.16,-125.83\"/>\n",
       "</g>\n",
       "<!-- 4663902064+&#45;&gt;4663902064 -->\n",
       "<g id=\"edge4\" class=\"edge\">\n",
       "<title>4663902064+&#45;&gt;4663902064</title>\n",
       "<path fill=\"none\" stroke=\"black\" d=\"M632.73,-100.5C639.73,-100.5 647.79,-100.5 656.52,-100.5\"/>\n",
       "<polygon fill=\"black\" stroke=\"black\" points=\"656.39,-104 666.39,-100.5 656.39,-97 656.39,-104\"/>\n",
       "</g>\n",
       "<!-- 4663895440 -->\n",
       "<g id=\"node12\" class=\"node\">\n",
       "<title>4663895440</title>\n",
       "<polygon fill=\"none\" stroke=\"black\" points=\"1.5,-0.5 1.5,-36.5 196.5,-36.5 196.5,-0.5 1.5,-0.5\"/>\n",
       "<text text-anchor=\"middle\" x=\"16.25\" y=\"-13.7\" font-family=\"Times,serif\" font-size=\"14.00\">x1</text>\n",
       "<polyline fill=\"none\" stroke=\"black\" points=\"31,-1 31,-36.5\"/>\n",
       "<text text-anchor=\"middle\" x=\"70.88\" y=\"-13.7\" font-family=\"Times,serif\" font-size=\"14.00\">data 2.0000</text>\n",
       "<polyline fill=\"none\" stroke=\"black\" points=\"110.75,-1 110.75,-36.5\"/>\n",
       "<text text-anchor=\"middle\" x=\"153.62\" y=\"-13.7\" font-family=\"Times,serif\" font-size=\"14.00\">grad &#45;1.5000</text>\n",
       "</g>\n",
       "<!-- 4663895440&#45;&gt;4663889488* -->\n",
       "<g id=\"edge13\" class=\"edge\">\n",
       "<title>4663895440&#45;&gt;4663889488*</title>\n",
       "<path fill=\"none\" stroke=\"black\" d=\"M168.91,-36.94C178.74,-39.93 188.67,-43.15 198,-46.5 207.96,-50.07 218.58,-54.47 228.18,-58.68\"/>\n",
       "<polygon fill=\"black\" stroke=\"black\" points=\"226.54,-61.78 237.1,-62.67 229.4,-55.39 226.54,-61.78\"/>\n",
       "</g>\n",
       "<!-- 4663896016 -->\n",
       "<g id=\"node13\" class=\"node\">\n",
       "<title>4663896016</title>\n",
       "<polygon fill=\"none\" stroke=\"black\" points=\"3.75,-110.5 3.75,-146.5 194.25,-146.5 194.25,-110.5 3.75,-110.5\"/>\n",
       "<text text-anchor=\"middle\" x=\"18.5\" y=\"-123.7\" font-family=\"Times,serif\" font-size=\"14.00\">x2</text>\n",
       "<polyline fill=\"none\" stroke=\"black\" points=\"33.25,-111 33.25,-146.5\"/>\n",
       "<text text-anchor=\"middle\" x=\"73.12\" y=\"-123.7\" font-family=\"Times,serif\" font-size=\"14.00\">data 0.0000</text>\n",
       "<polyline fill=\"none\" stroke=\"black\" points=\"113,-111 113,-146.5\"/>\n",
       "<text text-anchor=\"middle\" x=\"153.62\" y=\"-123.7\" font-family=\"Times,serif\" font-size=\"14.00\">grad 0.5000</text>\n",
       "</g>\n",
       "<!-- 4663896016&#45;&gt;4663901296* -->\n",
       "<g id=\"edge8\" class=\"edge\">\n",
       "<title>4663896016&#45;&gt;4663901296*</title>\n",
       "<path fill=\"none\" stroke=\"black\" d=\"M194.46,-128.5C204.21,-128.5 213.66,-128.5 222.21,-128.5\"/>\n",
       "<polygon fill=\"black\" stroke=\"black\" points=\"222.12,-132 232.12,-128.5 222.12,-125 222.12,-132\"/>\n",
       "</g>\n",
       "<!-- 4663891312 -->\n",
       "<g id=\"node14\" class=\"node\">\n",
       "<title>4663891312</title>\n",
       "<polygon fill=\"none\" stroke=\"black\" points=\"1374.75,-109.5 1374.75,-145.5 1558.5,-145.5 1558.5,-109.5 1374.75,-109.5\"/>\n",
       "<text text-anchor=\"middle\" x=\"1386.12\" y=\"-122.7\" font-family=\"Times,serif\" font-size=\"14.00\">o</text>\n",
       "<polyline fill=\"none\" stroke=\"black\" points=\"1397.5,-110 1397.5,-145.5\"/>\n",
       "<text text-anchor=\"middle\" x=\"1437.38\" y=\"-122.7\" font-family=\"Times,serif\" font-size=\"14.00\">data 0.7071</text>\n",
       "<polyline fill=\"none\" stroke=\"black\" points=\"1477.25,-110 1477.25,-145.5\"/>\n",
       "<text text-anchor=\"middle\" x=\"1517.88\" y=\"-122.7\" font-family=\"Times,serif\" font-size=\"14.00\">grad 1.0000</text>\n",
       "</g>\n",
       "<!-- 4663891312tanh&#45;&gt;4663891312 -->\n",
       "<g id=\"edge5\" class=\"edge\">\n",
       "<title>4663891312tanh&#45;&gt;4663891312</title>\n",
       "<path fill=\"none\" stroke=\"black\" d=\"M1339.03,-127.5C1346.17,-127.5 1354.36,-127.5 1363.07,-127.5\"/>\n",
       "<polygon fill=\"black\" stroke=\"black\" points=\"1362.81,-131 1372.81,-127.5 1362.81,-124 1362.81,-131\"/>\n",
       "</g>\n",
       "</g>\n",
       "</svg>\n"
      ],
      "text/plain": [
       "<graphviz.graphs.Digraph at 0x115fd5330>"
      ]
     },
     "execution_count": 81,
     "metadata": {},
     "output_type": "execute_result"
    }
   ],
   "source": [
    "draw_dot(o)"
   ]
  },
  {
   "cell_type": "code",
   "execution_count": 80,
   "id": "c6c7e405",
   "metadata": {},
   "outputs": [],
   "source": [
    "o.grad = 1.0\n",
    "n.grad = 0.5\n",
    "b.grad = 0.5\n",
    "x1w1x2w2.grad = 0.5\n",
    "x2w2.grad = 0.5\n",
    "x1w1.grad = 0.5\n",
    "w2.grad = 0\n",
    "x2.grad = x2w2.grad * w2.data\n",
    "w2.grad = x2w2.grad * x2.data\n",
    "w1.grad = 0.5 * x1.data\n",
    "x1.grad = 0.5 * w1.data\n",
    "\n"
   ]
  },
  {
   "cell_type": "code",
   "execution_count": 72,
   "id": "b8c3da96",
   "metadata": {},
   "outputs": [
    {
     "data": {
      "text/plain": [
       "0.4999999999999999"
      ]
     },
     "execution_count": 72,
     "metadata": {},
     "output_type": "execute_result"
    }
   ],
   "source": [
    "1- (o.data)**2"
   ]
  },
  {
   "cell_type": "code",
   "execution_count": null,
   "id": "7e80356c",
   "metadata": {},
   "outputs": [],
   "source": [
    "# o = tanh(n)\n",
    "# do/dn = (do/do) * (do/dn) \n",
    "# n.grad = 1 * (1-(tanh(n))**2)\n",
    "# n.grad = 1 * (1-(o)**2)\n",
    "# dL/dw2 = (dL/dx2w2) * (dx2w2/dw2)\n",
    "# dL/dw2 = 0.5 * x2 \n",
    "# dL/dw2 = 0.5 * 0\n",
    "# dL/dw2 = 0\n",
    "# dL/dx2 = (dL/dx2w2) * (dx2w2/dx2)\n",
    "# dL/dx2 = 0.5 * w2\n",
    "# dL/dx2 = 0.5 * 1\n",
    "# dL/dx2 = 0.5\n",
    "# dL/dw1 = (dL/dx1w1) * (dx1x1/dw1)\n",
    "# dL/dw1 = 0.5 * x1\n",
    "# dL/dw1 = 0.5 * 2\n",
    "# dL/dw1 = 1\n"
   ]
  }
 ],
 "metadata": {
  "kernelspec": {
   "display_name": "Python 3 (ipykernel)",
   "language": "python",
   "name": "python3"
  },
  "language_info": {
   "codemirror_mode": {
    "name": "ipython",
    "version": 3
   },
   "file_extension": ".py",
   "mimetype": "text/x-python",
   "name": "python",
   "nbconvert_exporter": "python",
   "pygments_lexer": "ipython3",
   "version": "3.10.11"
  }
 },
 "nbformat": 4,
 "nbformat_minor": 5
}
